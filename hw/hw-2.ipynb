{
 "cells": [
  {
   "cell_type": "code",
   "execution_count": 1,
   "id": "49e1b49c",
   "metadata": {},
   "outputs": [],
   "source": [
    "import pandas as pd\n",
    "import numpy as np"
   ]
  },
  {
   "cell_type": "code",
   "execution_count": 2,
   "id": "8b387744",
   "metadata": {},
   "outputs": [],
   "source": [
    "df = pd.read_csv(\"../datacsv/car_fuel_efficiency.csv\", delimiter=',', header=0)"
   ]
  },
  {
   "cell_type": "code",
   "execution_count": 3,
   "id": "c00b23f9",
   "metadata": {},
   "outputs": [
    {
     "data": {
      "text/html": [
       "<div>\n",
       "<style scoped>\n",
       "    .dataframe tbody tr th:only-of-type {\n",
       "        vertical-align: middle;\n",
       "    }\n",
       "\n",
       "    .dataframe tbody tr th {\n",
       "        vertical-align: top;\n",
       "    }\n",
       "\n",
       "    .dataframe thead th {\n",
       "        text-align: right;\n",
       "    }\n",
       "</style>\n",
       "<table border=\"1\" class=\"dataframe\">\n",
       "  <thead>\n",
       "    <tr style=\"text-align: right;\">\n",
       "      <th></th>\n",
       "      <th>engine_displacement</th>\n",
       "      <th>num_cylinders</th>\n",
       "      <th>horsepower</th>\n",
       "      <th>vehicle_weight</th>\n",
       "      <th>acceleration</th>\n",
       "      <th>model_year</th>\n",
       "      <th>origin</th>\n",
       "      <th>fuel_type</th>\n",
       "      <th>drivetrain</th>\n",
       "      <th>num_doors</th>\n",
       "      <th>fuel_efficiency_mpg</th>\n",
       "    </tr>\n",
       "  </thead>\n",
       "  <tbody>\n",
       "    <tr>\n",
       "      <th>7137</th>\n",
       "      <td>170</td>\n",
       "      <td>1.0</td>\n",
       "      <td>118.0</td>\n",
       "      <td>3309.951451</td>\n",
       "      <td>13.5</td>\n",
       "      <td>2022</td>\n",
       "      <td>Europe</td>\n",
       "      <td>Gasoline</td>\n",
       "      <td>All-wheel drive</td>\n",
       "      <td>-1.0</td>\n",
       "      <td>13.685757</td>\n",
       "    </tr>\n",
       "    <tr>\n",
       "      <th>3820</th>\n",
       "      <td>170</td>\n",
       "      <td>2.0</td>\n",
       "      <td>154.0</td>\n",
       "      <td>2795.553189</td>\n",
       "      <td>15.9</td>\n",
       "      <td>2018</td>\n",
       "      <td>Europe</td>\n",
       "      <td>Gasoline</td>\n",
       "      <td>Front-wheel drive</td>\n",
       "      <td>1.0</td>\n",
       "      <td>15.908644</td>\n",
       "    </tr>\n",
       "    <tr>\n",
       "      <th>3914</th>\n",
       "      <td>130</td>\n",
       "      <td>5.0</td>\n",
       "      <td>130.0</td>\n",
       "      <td>3019.801530</td>\n",
       "      <td>13.2</td>\n",
       "      <td>2021</td>\n",
       "      <td>USA</td>\n",
       "      <td>Diesel</td>\n",
       "      <td>Front-wheel drive</td>\n",
       "      <td>-1.0</td>\n",
       "      <td>15.302330</td>\n",
       "    </tr>\n",
       "    <tr>\n",
       "      <th>5642</th>\n",
       "      <td>250</td>\n",
       "      <td>4.0</td>\n",
       "      <td>149.0</td>\n",
       "      <td>4020.206283</td>\n",
       "      <td>15.4</td>\n",
       "      <td>2017</td>\n",
       "      <td>Europe</td>\n",
       "      <td>Gasoline</td>\n",
       "      <td>All-wheel drive</td>\n",
       "      <td>1.0</td>\n",
       "      <td>9.533227</td>\n",
       "    </tr>\n",
       "    <tr>\n",
       "      <th>3090</th>\n",
       "      <td>140</td>\n",
       "      <td>6.0</td>\n",
       "      <td>103.0</td>\n",
       "      <td>2522.096472</td>\n",
       "      <td>NaN</td>\n",
       "      <td>2020</td>\n",
       "      <td>Asia</td>\n",
       "      <td>Gasoline</td>\n",
       "      <td>Front-wheel drive</td>\n",
       "      <td>-1.0</td>\n",
       "      <td>17.095572</td>\n",
       "    </tr>\n",
       "  </tbody>\n",
       "</table>\n",
       "</div>"
      ],
      "text/plain": [
       "      engine_displacement  num_cylinders  horsepower  vehicle_weight  \\\n",
       "7137                  170            1.0       118.0     3309.951451   \n",
       "3820                  170            2.0       154.0     2795.553189   \n",
       "3914                  130            5.0       130.0     3019.801530   \n",
       "5642                  250            4.0       149.0     4020.206283   \n",
       "3090                  140            6.0       103.0     2522.096472   \n",
       "\n",
       "      acceleration  model_year  origin fuel_type         drivetrain  \\\n",
       "7137          13.5        2022  Europe  Gasoline    All-wheel drive   \n",
       "3820          15.9        2018  Europe  Gasoline  Front-wheel drive   \n",
       "3914          13.2        2021     USA    Diesel  Front-wheel drive   \n",
       "5642          15.4        2017  Europe  Gasoline    All-wheel drive   \n",
       "3090           NaN        2020    Asia  Gasoline  Front-wheel drive   \n",
       "\n",
       "      num_doors  fuel_efficiency_mpg  \n",
       "7137       -1.0            13.685757  \n",
       "3820        1.0            15.908644  \n",
       "3914       -1.0            15.302330  \n",
       "5642        1.0             9.533227  \n",
       "3090       -1.0            17.095572  "
      ]
     },
     "execution_count": 3,
     "metadata": {},
     "output_type": "execute_result"
    }
   ],
   "source": [
    "df.sample(5)"
   ]
  },
  {
   "cell_type": "code",
   "execution_count": 4,
   "id": "56b2a146",
   "metadata": {},
   "outputs": [],
   "source": [
    "df = df[['engine_displacement' ,'horsepower', 'vehicle_weight', 'model_year', 'fuel_efficiency_mpg']]"
   ]
  },
  {
   "cell_type": "code",
   "execution_count": 5,
   "id": "d1f58f9c",
   "metadata": {},
   "outputs": [
    {
     "data": {
      "text/plain": [
       "<Axes: ylabel='Frequency'>"
      ]
     },
     "execution_count": 5,
     "metadata": {},
     "output_type": "execute_result"
    },
    {
     "data": {
      "image/png": "[encoded data removed]",
      "text/plain": [
       "<Figure size 640x480 with 1 Axes>"
      ]
     },
     "metadata": {},
     "output_type": "display_data"
    }
   ],
   "source": [
    "df.plot(kind=\"hist\", column = \"fuel_efficiency_mpg\")"
   ]
  },
  {
   "cell_type": "code",
   "execution_count": 6,
   "id": "f588f96d",
   "metadata": {},
   "outputs": [
    {
     "data": {
      "text/plain": [
       "engine_displacement      0\n",
       "horsepower             708\n",
       "vehicle_weight           0\n",
       "model_year               0\n",
       "fuel_efficiency_mpg      0\n",
       "dtype: int64"
      ]
     },
     "execution_count": 6,
     "metadata": {},
     "output_type": "execute_result"
    }
   ],
   "source": [
    "df.isna().sum()"
   ]
  },
  {
   "cell_type": "code",
   "execution_count": 7,
   "id": "b2673ad6",
   "metadata": {},
   "outputs": [
    {
     "data": {
      "text/plain": [
       "np.float64(149.0)"
      ]
     },
     "execution_count": 7,
     "metadata": {},
     "output_type": "execute_result"
    }
   ],
   "source": [
    "df[\"horsepower\"].median()"
   ]
  },
  {
   "cell_type": "code",
   "execution_count": 8,
   "id": "4c1f1c45",
   "metadata": {},
   "outputs": [
    {
     "data": {
      "text/html": [
       "<div>\n",
       "<style scoped>\n",
       "    .dataframe tbody tr th:only-of-type {\n",
       "        vertical-align: middle;\n",
       "    }\n",
       "\n",
       "    .dataframe tbody tr th {\n",
       "        vertical-align: top;\n",
       "    }\n",
       "\n",
       "    .dataframe thead th {\n",
       "        text-align: right;\n",
       "    }\n",
       "</style>\n",
       "<table border=\"1\" class=\"dataframe\">\n",
       "  <thead>\n",
       "    <tr style=\"text-align: right;\">\n",
       "      <th></th>\n",
       "      <th>engine_displacement</th>\n",
       "      <th>horsepower</th>\n",
       "      <th>vehicle_weight</th>\n",
       "      <th>model_year</th>\n",
       "      <th>fuel_efficiency_mpg</th>\n",
       "    </tr>\n",
       "  </thead>\n",
       "  <tbody>\n",
       "    <tr>\n",
       "      <th>count</th>\n",
       "      <td>9704.000000</td>\n",
       "      <td>8996.000000</td>\n",
       "      <td>9704.000000</td>\n",
       "      <td>9704.000000</td>\n",
       "      <td>9704.000000</td>\n",
       "    </tr>\n",
       "    <tr>\n",
       "      <th>mean</th>\n",
       "      <td>199.708368</td>\n",
       "      <td>149.657292</td>\n",
       "      <td>3001.280993</td>\n",
       "      <td>2011.484027</td>\n",
       "      <td>14.985243</td>\n",
       "    </tr>\n",
       "    <tr>\n",
       "      <th>std</th>\n",
       "      <td>49.455319</td>\n",
       "      <td>29.879555</td>\n",
       "      <td>497.894860</td>\n",
       "      <td>6.659808</td>\n",
       "      <td>2.556468</td>\n",
       "    </tr>\n",
       "    <tr>\n",
       "      <th>min</th>\n",
       "      <td>10.000000</td>\n",
       "      <td>37.000000</td>\n",
       "      <td>952.681761</td>\n",
       "      <td>2000.000000</td>\n",
       "      <td>6.200971</td>\n",
       "    </tr>\n",
       "    <tr>\n",
       "      <th>25%</th>\n",
       "      <td>170.000000</td>\n",
       "      <td>130.000000</td>\n",
       "      <td>2666.248985</td>\n",
       "      <td>2006.000000</td>\n",
       "      <td>13.267459</td>\n",
       "    </tr>\n",
       "    <tr>\n",
       "      <th>50%</th>\n",
       "      <td>200.000000</td>\n",
       "      <td>149.000000</td>\n",
       "      <td>2993.226296</td>\n",
       "      <td>2012.000000</td>\n",
       "      <td>15.006037</td>\n",
       "    </tr>\n",
       "    <tr>\n",
       "      <th>75%</th>\n",
       "      <td>230.000000</td>\n",
       "      <td>170.000000</td>\n",
       "      <td>3334.957039</td>\n",
       "      <td>2017.000000</td>\n",
       "      <td>16.707965</td>\n",
       "    </tr>\n",
       "    <tr>\n",
       "      <th>max</th>\n",
       "      <td>380.000000</td>\n",
       "      <td>271.000000</td>\n",
       "      <td>4739.077089</td>\n",
       "      <td>2023.000000</td>\n",
       "      <td>25.967222</td>\n",
       "    </tr>\n",
       "  </tbody>\n",
       "</table>\n",
       "</div>"
      ],
      "text/plain": [
       "       engine_displacement   horsepower  vehicle_weight   model_year  \\\n",
       "count          9704.000000  8996.000000     9704.000000  9704.000000   \n",
       "mean            199.708368   149.657292     3001.280993  2011.484027   \n",
       "std              49.455319    29.879555      497.894860     6.659808   \n",
       "min              10.000000    37.000000      952.681761  2000.000000   \n",
       "25%             170.000000   130.000000     2666.248985  2006.000000   \n",
       "50%             200.000000   149.000000     2993.226296  2012.000000   \n",
       "75%             230.000000   170.000000     3334.957039  2017.000000   \n",
       "max             380.000000   271.000000     4739.077089  2023.000000   \n",
       "\n",
       "       fuel_efficiency_mpg  \n",
       "count          9704.000000  \n",
       "mean             14.985243  \n",
       "std               2.556468  \n",
       "min               6.200971  \n",
       "25%              13.267459  \n",
       "50%              15.006037  \n",
       "75%              16.707965  \n",
       "max              25.967222  "
      ]
     },
     "execution_count": 8,
     "metadata": {},
     "output_type": "execute_result"
    }
   ],
   "source": [
    "df.describe()"
   ]
  },
  {
   "cell_type": "code",
   "execution_count": 9,
   "id": "002852c1",
   "metadata": {},
   "outputs": [],
   "source": [
    "n_train = int(0.6*len(df))\n",
    "n_val = int(0.2 * len(df))\n",
    "n_test = len(df) - n_train - n_val"
   ]
  },
  {
   "cell_type": "code",
   "execution_count": 10,
   "id": "72d28a04",
   "metadata": {},
   "outputs": [],
   "source": [
    "np.random.seed(42)\n",
    "idx = np.arange(len(df))\n",
    "np.random.shuffle(idx)\n",
    "\n",
    "\n",
    "df_train = df.iloc[idx[:n_train]]\n",
    "df_val = df.iloc[idx[n_train:n_train+n_val]]\n",
    "df_test = df.iloc[idx[n_train+n_val:]]"
   ]
  },
  {
   "cell_type": "code",
   "execution_count": 11,
   "id": "bb8f6168",
   "metadata": {},
   "outputs": [
    {
     "data": {
      "text/plain": [
       "(5822, 1940, 1942, 9704)"
      ]
     },
     "execution_count": 11,
     "metadata": {},
     "output_type": "execute_result"
    }
   ],
   "source": [
    "len(df_train) , len(df_val) , len(df_test), len(df)"
   ]
  },
  {
   "cell_type": "code",
   "execution_count": 12,
   "id": "67fb645c",
   "metadata": {},
   "outputs": [],
   "source": [
    "def train_linear_regression(X, y):\n",
    "    ones = np.ones(X.shape[0])\n",
    "    X = np.column_stack([ones, X])\n",
    "    XTX = X.T.dot(X)\n",
    "    theta = np.linalg.inv(XTX).dot(X.T).dot(y)\n",
    "    coeff = theta[1:]\n",
    "    bias= theta[0]\n",
    "    return coeff , bias"
   ]
  },
  {
   "cell_type": "code",
   "execution_count": 13,
   "id": "e045c932",
   "metadata": {},
   "outputs": [],
   "source": [
    "def rmse(y_pred , y):\n",
    "    error = y - y_pred\n",
    "    se = error ** 2\n",
    "    mse = se.mean()\n",
    "    return np.sqrt(mse)\n"
   ]
  },
  {
   "cell_type": "code",
   "execution_count": 14,
   "id": "cfb2f3bb",
   "metadata": {},
   "outputs": [
    {
     "data": {
      "text/plain": [
       "(array([ 0.00012034,  0.01030286, -0.00500997, -0.00022574]),\n",
       " np.float64(28.907110618312704))"
      ]
     },
     "execution_count": 14,
     "metadata": {},
     "output_type": "execute_result"
    }
   ],
   "source": [
    "df_filled_median = df_train.copy().fillna(df_train[\"horsepower\"].mean())\n",
    "X_median_train = df_filled_median[[\"engine_displacement\",\"horsepower\",\"vehicle_weight\",\"model_year\"]]\n",
    "y_median_train = df_filled_median[\"fuel_efficiency_mpg\"]\n",
    "\n",
    "a , b = train_linear_regression(X_median_train, y_median_train)\n",
    "a , b"
   ]
  },
  {
   "cell_type": "code",
   "execution_count": 15,
   "id": "4cdd6310",
   "metadata": {},
   "outputs": [
    {
     "data": {
      "text/plain": [
       "((4,), ())"
      ]
     },
     "execution_count": 15,
     "metadata": {},
     "output_type": "execute_result"
    }
   ],
   "source": [
    "a.shape , b.shape"
   ]
  },
  {
   "cell_type": "code",
   "execution_count": 16,
   "id": "d155ea45",
   "metadata": {},
   "outputs": [
    {
     "name": "stdout",
     "output_type": "stream",
     "text": [
      "RMSE with df filled with mean value :  0.46\n"
     ]
    }
   ],
   "source": [
    "y_val = df_val[\"fuel_efficiency_mpg\"].values\n",
    "X_val = df_val[[\"engine_displacement\",\"horsepower\",\"vehicle_weight\",\"model_year\"]].fillna(df_train[\"horsepower\"].mean()).values\n",
    "y_val_pred = X_val.dot(a) + b\n",
    "print(\"RMSE with df filled with mean value : \", round(rmse(y_val_pred, y_val), 2))"
   ]
  },
  {
   "cell_type": "code",
   "execution_count": 17,
   "id": "fa14db48",
   "metadata": {},
   "outputs": [
    {
     "data": {
      "text/plain": [
       "(array([ 9.88022381e-05,  3.54195814e-03, -5.01316573e-03,  3.51135283e-04]),\n",
       " np.float64(28.8107493318962))"
      ]
     },
     "execution_count": 17,
     "metadata": {},
     "output_type": "execute_result"
    }
   ],
   "source": [
    "df_filled_zeros = df_train.copy().fillna(0)\n",
    "X_zeros_train = df_filled_zeros[[\"engine_displacement\",\"horsepower\",\"vehicle_weight\",\"model_year\"]]\n",
    "y_zeros_train = df_filled_zeros[\"fuel_efficiency_mpg\"]\n",
    "\n",
    "a , b = train_linear_regression(X_zeros_train, y_zeros_train)\n",
    "a , b"
   ]
  },
  {
   "cell_type": "code",
   "execution_count": 18,
   "id": "d44e6848",
   "metadata": {},
   "outputs": [
    {
     "name": "stdout",
     "output_type": "stream",
     "text": [
      "RMSE with df filled with zeros :  0.52\n"
     ]
    }
   ],
   "source": [
    "y_val = df_val[\"fuel_efficiency_mpg\"].values\n",
    "X_val_zeros = df_val[[\"engine_displacement\",\"horsepower\",\"vehicle_weight\",\"model_year\"]].fillna(0).values\n",
    "y_val_pred = X_val_zeros.dot(a) + b\n",
    "print(\"RMSE with df filled with zeros : \", round(rmse(y_val_pred, y_val), 2))"
   ]
  },
  {
   "cell_type": "code",
   "execution_count": 19,
   "id": "c3b1bd81",
   "metadata": {},
   "outputs": [],
   "source": [
    "def ridge_regression(X, y, r):\n",
    "    ones = np.ones(X.shape[0])\n",
    "    X = np.column_stack([ones, X])\n",
    "    XTX = X.T.dot(X)\n",
    "    theta = np.linalg.inv(XTX + r * np.eye(XTX.shape[0])).dot(X.T).dot(y)\n",
    "    coeff = theta[1:]\n",
    "    bias= theta[0]\n",
    "    return coeff , bias"
   ]
  },
  {
   "cell_type": "code",
   "execution_count": 20,
   "id": "812747c0",
   "metadata": {},
   "outputs": [
    {
     "name": "stdout",
     "output_type": "stream",
     "text": [
      "RMSE for penality : 0 = 0.5171866956569342\n",
      "RMSE for penality : 0.01 = 0.5169342809307013\n",
      "RMSE for penality : 0.1 = 0.518626929018817\n",
      "RMSE for penality : 1 = 0.5221435511942384\n",
      "RMSE for penality : 5 = 0.5228049144164512\n",
      "RMSE for penality : 10 = 0.5228952084992662\n",
      "RMSE for penality : 100 = 0.522978084800772\n"
     ]
    }
   ],
   "source": [
    "r = [0, 0.01, 0.1, 1, 5, 10, 100]\n",
    "X_val_zeros = df_val[[\"engine_displacement\",\"horsepower\",\"vehicle_weight\",\"model_year\"]].fillna(0).values\n",
    "X_zeros_train = df_filled_zeros[[\"engine_displacement\",\"horsepower\",\"vehicle_weight\",\"model_year\"]]\n",
    "y_zeros_train = df_filled_zeros[\"fuel_efficiency_mpg\"]\n",
    "for pen in r :\n",
    "    a, b = ridge_regression(X_zeros_train.values, y_zeros_train.values, pen)\n",
    "    y_val_pred = X_val_zeros.dot(a) + b\n",
    "    print(f\"RMSE for penality : {pen} = {rmse(y_val_pred, y_val)}\")\n",
    "    "
   ]
  },
  {
   "cell_type": "code",
   "execution_count": 22,
   "id": "9a2d25a6",
   "metadata": {},
   "outputs": [
    {
     "data": {
      "text/plain": [
       "array([0, 1, 2, 3, 4, 5, 6, 7, 8, 9])"
      ]
     },
     "execution_count": 22,
     "metadata": {},
     "output_type": "execute_result"
    }
   ],
   "source": [
    "seed_values = np.arange(10)\n",
    "seed_values"
   ]
  },
  {
   "cell_type": "code",
   "execution_count": 25,
   "id": "6f469f41",
   "metadata": {},
   "outputs": [
    {
     "name": "stdout",
     "output_type": "stream",
     "text": [
      "Standard deviation of rmse scores is :  0.007096477999684075\n"
     ]
    }
   ],
   "source": [
    "rmse_scores = np.array([])\n",
    "for seed_val in seed_values :\n",
    "    np.random.seed(seed_val)\n",
    "    i = np.arange(len(df))\n",
    "    np.random.shuffle(i)\n",
    "    data = df.copy().fillna(0)\n",
    "    df_train = data.iloc[i[:n_train]]\n",
    "    df_val = data.iloc[i[n_train:n_train+n_val]]\n",
    "    df_test = data.iloc[i[n_train+n_val:]]\n",
    "    X_train = df_train[[\"engine_displacement\",\"horsepower\",\"vehicle_weight\",\"model_year\"]]\n",
    "    y_train = df_train[\"fuel_efficiency_mpg\"].values\n",
    "    a , b = train_linear_regression(X_train , y_train)\n",
    "    X_val = df_val[[\"engine_displacement\",\"horsepower\",\"vehicle_weight\",\"model_year\"]].values\n",
    "    y_val = df_val[\"fuel_efficiency_mpg\"].values\n",
    "    y_pred = X_val.dot(a) + b\n",
    "    rmse_scores = np.append(rmse_scores,round(rmse(y_pred , y_val), 3))\n",
    "\n",
    "print(\"Standard deviation of rmse scores is : \", rmse_scores.std())\n",
    "    "
   ]
  },
  {
   "cell_type": "code",
   "execution_count": 35,
   "id": "bbe8359c",
   "metadata": {},
   "outputs": [
    {
     "name": "stdout",
     "output_type": "stream",
     "text": [
      "RMSE for test dataset is :  0.5155043369325081\n"
     ]
    }
   ],
   "source": [
    "np.random.seed(9)\n",
    "idx = np.arange(len(df))\n",
    "np.random.shuffle(idx)\n",
    "data = df.copy().fillna(0)\n",
    "\n",
    "\n",
    "df_train = data.iloc[idx[:n_train]]\n",
    "df_val = data.iloc[idx[n_train:n_train+n_val]]\n",
    "df_test = data.iloc[idx[n_train+n_val:]]\n",
    "\n",
    "df_train_all = pd.concat([df_train,df_val]).reset_index(drop=True)\n",
    "X_train_all = df_train_all[[\"engine_displacement\",\"horsepower\",\"vehicle_weight\",\"model_year\"]].values\n",
    "y_train_all = df_train_all[\"fuel_efficiency_mpg\"].values\n",
    "\n",
    "\n",
    "a ,b = ridge_regression(X_train_all, y_train_all, 0.001)\n",
    "\n",
    "X_test = df_test[[\"engine_displacement\",\"horsepower\",\"vehicle_weight\",\"model_year\"]].values\n",
    "y_test = df_test[\"fuel_efficiency_mpg\"]\n",
    "\n",
    "y_pred = X_test.dot(a) + b\n",
    "print(\"RMSE for test dataset is : \", rmse(y_pred ,y_test)) "
   ]
  }
 ],
 "metadata": {
  "kernelspec": {
   "display_name": "env",
   "language": "python",
   "name": "python3"
  },
  "language_info": {
   "codemirror_mode": {
    "name": "ipython",
    "version": 3
   },
   "file_extension": ".py",
   "mimetype": "text/x-python",
   "name": "python",
   "nbconvert_exporter": "python",
   "pygments_lexer": "ipython3",
   "version": "3.13.6"
  }
 },
 "nbformat": 4,
 "nbformat_minor": 5
}
